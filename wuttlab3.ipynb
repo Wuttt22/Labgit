{
  "nbformat": 4,
  "nbformat_minor": 0,
  "metadata": {
    "colab": {
      "provenance": []
    },
    "kernelspec": {
      "name": "python3",
      "display_name": "Python 3"
    },
    "language_info": {
      "name": "python"
    }
  },
  "cells": [
    {
      "cell_type": "markdown",
      "source": [
        "# Part 1: Understanding the Procedural Code\n",
        "What is the limitations of using global variables and the benefits of OOP in the previous bank account code program?"
      ],
      "metadata": {
        "id": "sTqkX6NXF8tV"
      }
    },
    {
      "cell_type": "code",
      "execution_count": null,
      "metadata": {
        "id": "XfiORNqzFwOT"
      },
      "outputs": [],
      "source": []
    },
    {
      "cell_type": "markdown",
      "source": [
        "# Part 2: Designing the BankAccount Class\n",
        "\n",
        "Task: Refactor and create a `BankAccount` class with the following:\n",
        "\n",
        "\n",
        "*   Attributes: `account_name, account_balance, account_password`\n",
        "*   Methods:\n",
        "    *   `__init__` to initialize account details.\n",
        "    *   `deposit` to add money.\n",
        "    *   `withdraw` to remove money if the password matches.\n",
        "    *   `show_details` to display account information.\n",
        "    *   add method `receive` to receive money from other accounts without giving password.\n",
        "\n",
        "\n",
        "\n"
      ],
      "metadata": {
        "id": "xiwa51WxGNP1"
      }
    },
    {
      "cell_type": "code",
      "source": [
        "class BankAccount:\n",
        "  def __init__(self, name, balance, password):\n",
        "    self.accountName = name\n",
        "    self.accountBalance = balance\n",
        "    self.accountPassword = password\n",
        "\n",
        "  def deposit(self, amountToDeposit, password):\n",
        "    if amountToDeposit < 0:\n",
        "        print('You cannot deposit a negative amount!')\n",
        "        return None\n",
        "    if password != self.accountPassword:\n",
        "        print('Incorrect password')\n",
        "        return None\n",
        "    self.accountBalance += amountToDeposit\n",
        "    return self.accountBalance\n",
        "\n",
        "  def withdraw(self, amountToWithdraw, password):\n",
        "    if amountToWithdraw < 0:\n",
        "        print('You cannot withdraw a negative amount')\n",
        "        return None\n",
        "    if password != self.accountPassword:\n",
        "        print('Incorrect password for this account')\n",
        "        return None\n",
        "    if amountToWithdraw > self.accountBalance:\n",
        "        print('You cannot withdraw more than you have in your account')\n",
        "        return None\n",
        "    self.accountBalance -= amountToWithdraw\n",
        "    return self.accountBalance\n",
        "\n",
        "  def show_details(self):\n",
        "    print('Name:', self.accountName)\n",
        "    print('Balance:', self.accountBalance)\n",
        "    print()\n",
        "\n",
        "  def receive(self, amount):\n",
        "    self.accountBalance += amount"
      ],
      "metadata": {
        "id": "FKS6lCu9HALu"
      },
      "execution_count": 105,
      "outputs": []
    },
    {
      "cell_type": "markdown",
      "source": [
        "# Part 3: Implementing the Bank Class\n",
        "\n",
        "Task: Create a `Bank` class to manage multiple accounts using BankAccount objects:\n",
        "\n",
        "\n",
        "*   Attributes: A list `accounts`  to store accounts.\n",
        "*   Methods:\n",
        "      *   `add_account`: Create and add a new BankAccount.\n",
        "\n",
        "            Parameters: `account_name`, `initial_balance`, `password`\n",
        "\n",
        "      *   `get_account`: Retrieve an account by name\n",
        "\n",
        "            Parameters: `account_name`\n",
        "            \n",
        "      *   `transfer`: Move money between two accounts\n",
        "            Parameters: `from_account_name`, `to_account_name`, `amount`, `password`\n",
        "      *   `bank_summary`: Display a summary of all accounts.\n",
        "\n",
        "Challenge: Use dictionary instead of list `accounts` to store accounts by name.\n",
        "\n",
        "\n"
      ],
      "metadata": {
        "id": "FrKpCnOcHYmr"
      }
    },
    {
      "cell_type": "code",
      "source": [
        "class Bank:\n",
        "  def __init__(self):\n",
        "    self.accounts = []\n",
        "  def add_account(self, account_name, initial_balance, password):\n",
        "    newAccount = BankAccount(account_name, initial_balance, password)\n",
        "    self.accounts.append(newAccount)\n",
        "    return newAccount\n",
        "  def get_account(self, account_name):\n",
        "    for account in self.accounts:\n",
        "      if account.accountName == account_name:\n",
        "        return account\n",
        "    return None\n",
        "  def transfer(self, from_account_name, to_account_name, amount, password):\n",
        "    fromAccount = self.get_account(from_account_name)\n",
        "    toAccount = self.get_account(to_account_name)\n",
        "    if fromAccount == None:\n",
        "      print('Account not found')\n",
        "      return None\n",
        "    if toAccount == None:\n",
        "      print('Account not found')\n",
        "      return None\n",
        "    def get_account(self, account_name):\n",
        "      for account in self.accounts:\n",
        "        if account.accountName == account_name:\n",
        "          return account\n",
        "      return None\n",
        "    fromAccount.withdraw(amount, password)\n",
        "    toAccount.receive(amount)\n",
        "    return None\n",
        "  def bank_summary(self):\n",
        "    for account in self.accounts:\n",
        "      account.show_details()\n",
        "    return None"
      ],
      "metadata": {
        "id": "eJcbDSVQKopH"
      },
      "execution_count": 106,
      "outputs": []
    },
    {
      "cell_type": "markdown",
      "source": [
        "# Part 4: Integration and Testing\n",
        "In this part, you will integrate the Bank and BankAccount classes by simulating real-world scenarios to test their implementation. The scenarios include creating accounts, depositing and withdrawing money, transferring funds, and generating a bank summary.\n",
        "\n"
      ],
      "metadata": {
        "id": "sLFgwjOLKpJm"
      }
    },
    {
      "cell_type": "markdown",
      "source": [
        "Scenario 1: Bank Setup and Account Creation\n",
        "\n",
        "Task: Create a Bank object and add three accounts:\n",
        "\n",
        "1.   John Doe with an initial deposit of 1000.\n",
        "2.   Jane Smith with an initial deposit of 2000.\n",
        "3. Bob Johnson with an initial deposit of 500.\n",
        "\n"
      ],
      "metadata": {
        "id": "iPunjcwGOXcV"
      }
    },
    {
      "cell_type": "code",
      "source": [
        "SCB = Bank()\n",
        "SCB.add_account('John Doe', 1000, '1111')\n",
        "SCB.add_account('Jane Smith', 2000, '5555')\n",
        "SCB.add_account('Bob Johnson', 500, '123')\n",
        "SCB.bank_summary()"
      ],
      "metadata": {
        "id": "7Xz8vHvXPm7h",
        "colab": {
          "base_uri": "https://localhost:8080/"
        },
        "outputId": "11a2034b-c9f6-4932-e0e5-03aa91b4fed5"
      },
      "execution_count": 107,
      "outputs": [
        {
          "output_type": "stream",
          "name": "stdout",
          "text": [
            "Name: John Doe\n",
            "Balance: 1000\n",
            "\n",
            "Name: Jane Smith\n",
            "Balance: 2000\n",
            "\n",
            "Name: Bob Johnson\n",
            "Balance: 500\n",
            "\n"
          ]
        }
      ]
    },
    {
      "cell_type": "markdown",
      "source": [
        "Scenario 2: Depositing Money\n",
        "\n",
        "Task: John Doe receives his salary of $2000. Deposit this amount into his account."
      ],
      "metadata": {
        "id": "tOMPVa94Poj3"
      }
    },
    {
      "cell_type": "code",
      "source": [
        "john_doe_account = SCB.get_account('John Doe')\n",
        "if john_doe_account:\n",
        "  john_doe_account.deposit(2000, 'password1')\n",
        "  print(f\"Deposit successful for John Doe. New balance: {john_doe_account.accountBalance}\")\n",
        "else:\n",
        "  print(\"Account not found for John Doe.\")"
      ],
      "metadata": {
        "id": "O2Ocn03bPxRU",
        "colab": {
          "base_uri": "https://localhost:8080/"
        },
        "outputId": "0e503a23-8c0c-47c5-89de-3e269986ab39"
      },
      "execution_count": 110,
      "outputs": [
        {
          "output_type": "stream",
          "name": "stdout",
          "text": [
            "Incorrect password\n",
            "Deposit successful for John Doe. New balance: 1000\n"
          ]
        }
      ]
    },
    {
      "cell_type": "markdown",
      "source": [
        "Scenario 3: Withdrawing Money\n",
        "\n",
        "\n",
        "Task:\n",
        "1.   Jane Smith withdraws 500 for shopping.\n",
        "2.   Bob Johnson tries to withdraw 600 (exceeding his balance).\n"
      ],
      "metadata": {
        "id": "edMgEfFrPzYj"
      }
    },
    {
      "cell_type": "code",
      "source": [
        "jane_smith_account = SCB.get_account('Jane Smith')\n",
        "if jane_smith_account:\n",
        "  jane_smith_account.withdraw(500, 'password2')\n",
        "  print(f\"Withdrawal successful for Jane Smith. New balance: {jane_smith_account.accountBalance}\")\n",
        "else:\n",
        "  print(\"Account not found for Jane Smith.\")\n",
        "bob_johnson_account = SCB.get_account('Bob Johnson')\n",
        "if bob_johnson_account:\n",
        "  bob_johnson_account.withdraw(600, 'password3')\n",
        "else:\n",
        "  print(\"Account not found for Bob Johnson.\")"
      ],
      "metadata": {
        "id": "LaBSoesBPyT7",
        "colab": {
          "base_uri": "https://localhost:8080/"
        },
        "outputId": "45bfc410-7208-4b8a-903d-97566850bb8b"
      },
      "execution_count": 111,
      "outputs": [
        {
          "output_type": "stream",
          "name": "stdout",
          "text": [
            "Incorrect password for this account\n",
            "Withdrawal successful for Jane Smith. New balance: 2000\n",
            "Incorrect password for this account\n"
          ]
        }
      ]
    },
    {
      "cell_type": "markdown",
      "source": [
        "Scenario 4: Transferring Money\n",
        "\n",
        "\n",
        "Task:\n",
        "1. John Doe transfers 1000 to Jane Smith for a joint project.\n",
        "2. Bob Johnson transfers 200 to John Doe.\n",
        "3. Show summary of all bank accounts"
      ],
      "metadata": {
        "id": "5ysmZx9vQFMj"
      }
    },
    {
      "cell_type": "code",
      "source": [
        "SCB.transfer('John Doe', 'Jane Smith', 1000, 'password1')\n",
        "SCB.transfer('Bob Johnson', 'John Doe', 200, 'password3')\n",
        "SCB.bank_summary()"
      ],
      "metadata": {
        "id": "1P6TOftBQDh0",
        "colab": {
          "base_uri": "https://localhost:8080/"
        },
        "outputId": "e944eefb-1454-441b-cbda-d20571bdeffd"
      },
      "execution_count": 113,
      "outputs": [
        {
          "output_type": "stream",
          "name": "stdout",
          "text": [
            "Incorrect password for this account\n",
            "Incorrect password for this account\n",
            "Name: John Doe\n",
            "Balance: 1200\n",
            "\n",
            "Name: Jane Smith\n",
            "Balance: 3000\n",
            "\n",
            "Name: Bob Johnson\n",
            "Balance: 500\n",
            "\n"
          ]
        }
      ]
    }
  ]
}